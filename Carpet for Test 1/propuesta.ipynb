{
 "cells": [
  {
   "cell_type": "markdown",
   "metadata": {},
   "source": [
    "<center><img src=\"https://matematica.usm.cl/wp-content/themes/dmatUSM/assets/img/logoDMAT2.png\" title=\"Title text\" /></center>\n",
    "<hr style=\"height:2px;border:none\"/>\n",
    "<h1 align='center'> [MAT281] Proyecto final: Aplicaciones de las matemáticas a la ingeniería</h1>\n",
    "<h2 align='center'> Conjunto de datos: \"DARWIN\" - Grupo 2</h2>\n",
    "<hr style=\"height:2px;border:none\"/>"
   ]
  },
  {
   "cell_type": "markdown",
   "metadata": {},
   "source": [
    "**Nombre del Conjunto de Datos:** DARWIN\n",
    "\n",
    "**Objetivo del Conjunto de Datos:** El conjunto de datos DARWIN fue creado con el propósito de permitir a los investigadores mejorar las metodologías de aprendizaje automático para la predicción de la enfermedad de Alzheimer a través del análisis de la escritura a mano. La tarea principal es clasificar a los participantes en dos categorías: pacientes con enfermedad de Alzheimer (AD) y personas sanas (Saludable).\n",
    "\n",
    "**Características Clave del Conjunto de Datos:**\n",
    "- Número de Participantes: Un total de 174 participantes.\n",
    "   - 89 pacientes con enfermedad de Alzheimer (AD).\n",
    "   - 85 personas sanas (Saludable).\n",
    "- Estructura del Archivo \"DARWIN.csv\":\n",
    "   - 452 columnas en total.\n",
    "   - La primera columna contiene identificadores de participantes.\n",
    "   - La última columna indica la clase a la que pertenece cada participante ('P' para Paciente o 'H' para Saludable).\n",
    "   - Las columnas intermedias almacenan características extraídas de 25 tareas específicas, con 18 características por tarea.\n",
    "\n",
    "**Datos Faltantes:** No existen valores faltantes en el conjunto de datos.\n",
    "\n",
    "**Referencias Relacionadas:**\n",
    "- [1] Artículo titulado \"An experimental protocol to support cognitive impairment diagnosis by using handwriting analysis\" in Procedia Computer Science (2018).\n",
    "- [2] Artículo titulado \"Diagnosing Alzheimer’s disease from online handwriting: A novel dataset and performance benchmarking\" in Engineering Applications of Artificial Intelligence (2022)."
   ]
  },
  {
   "cell_type": "code",
   "execution_count": null,
   "metadata": {
    "vscode": {
     "languageId": "plaintext"
    }
   },
   "outputs": [],
   "source": []
  }
 ],
 "metadata": {
  "language_info": {
   "name": "python"
  }
 },
 "nbformat": 4,
 "nbformat_minor": 2
}
