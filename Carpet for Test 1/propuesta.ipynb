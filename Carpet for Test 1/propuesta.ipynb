{
 "cells": [
  {
   "cell_type": "markdown",
   "metadata": {},
   "source": [
    "<center><img src=\"https://matematica.usm.cl/wp-content/themes/dmatUSM/assets/img/logoDMAT2.png\" title=\"Title text\" /></center>\n",
    "<hr style=\"height:2px;border:none\"/>\n",
    "<h1 align='center'> [MAT281] Proyecto final: Aplicaciones de las matemáticas a la ingeniería</h1>\n",
    "<h2 align='center'> Conjunto de datos: \"DARWIN\" - Grupo 2</h2>\n",
    "<hr style=\"height:2px;border:none\"/>"
   ]
  },
  {
   "cell_type": "markdown",
   "metadata": {},
   "source": [
    "<p style=\"text-align: center;\">\n",
    "    <img src=\"https://github.com/Darkrayyss/Proyecto-Final-MAT281/raw/307f0d0f14aefbff8de7698d0c645d680ced6994/Carpet%20for%20Test%201/images/Capy2.png\" alt=\"Capybara trabajando\" width=\"500\" style=\"border: 7px solid black;\">\n",
    "    <br>\n",
    "    <small>Título de la imagen: Capybara trabajando</small>\n",
    "</p>"
   ]
  },
  {
   "cell_type": "markdown",
   "metadata": {},
   "source": [
    "**Nombre del Conjunto de Datos:** DARWIN\n",
    "\n",
    "**Objetivo del Conjunto de Datos:** El conjunto de datos DARWIN fue creado con el propósito de permitir a los investigadores mejorar las metodologías de aprendizaje automático para la predicción de la enfermedad de Alzheimer a través del análisis de la escritura a mano. La tarea principal es clasificar a los participantes en dos categorías: pacientes con enfermedad de Alzheimer (AD) y personas sanas (Saludable).\n",
    "\n",
    "**Características Clave del Conjunto de Datos:**\n",
    "- Número de Participantes: Un total de 174 participantes.\n",
    "   - 89 pacientes con enfermedad de Alzheimer (AD).\n",
    "   - 85 personas sanas (Saludable).\n",
    "- Estructura del Archivo \"DARWIN.csv\":\n",
    "   - 452 columnas en total.\n",
    "   - La primera columna contiene identificadores de participantes.\n",
    "   - La última columna indica la clase a la que pertenece cada participante ('P' para Paciente o 'H' para Saludable).\n",
    "   - Las columnas intermedias almacenan características extraídas de 25 tareas específicas, con 18 características por tarea.\n",
    "\n",
    "**Datos Faltantes:** No existen valores faltantes en el conjunto de datos.\n",
    "\n",
    "**Referencias Relacionadas:**\n",
    "- [1] Artículo titulado \"An experimental protocol to support cognitive impairment diagnosis by using handwriting analysis\" in Procedia Computer Science (2018).\n",
    "- [2] Artículo titulado \"Diagnosing Alzheimer’s disease from online handwriting: A novel dataset and performance benchmarking\" in Engineering Applications of Artificial Intelligence (2022)."
   ]
  },
  {
   "cell_type": "markdown",
   "metadata": {},
   "source": [
    "**Para más información acerca de las covariables, el experimento realizado para obtener las mediciones y los objetivos** pensandos para el trabajo incialmente, dirigase al árticulo *Diagnosing Alzheimer’s disease from on-line handwriting A novel dataset* [2]."
   ]
  },
  {
   "cell_type": "markdown",
   "metadata": {},
   "source": [
    "# Manejo de datos"
   ]
  },
  {
   "cell_type": "code",
   "execution_count": 9,
   "metadata": {},
   "outputs": [],
   "source": [
    "# Libraries for data handling and operations.\n",
    "import pandas as pd\n",
    "import numpy as np\n",
    "\n",
    "# sklearn\n",
    "from sklearn.preprocessing import StandardScaler\n",
    "from sklearn.model_selection import train_test_split\n",
    "from sklearn.metrics import confusion_matrix\n",
    "from sklearn.feature_selection import mutual_info_classif\n",
    "\n",
    "# Visualization libraries.\n",
    "import matplotlib.pyplot as plt\n",
    "import seaborn as sns"
   ]
  },
  {
   "cell_type": "code",
   "execution_count": 10,
   "metadata": {},
   "outputs": [
    {
     "data": {
      "text/html": [
       "<div>\n",
       "<style scoped>\n",
       "    .dataframe tbody tr th:only-of-type {\n",
       "        vertical-align: middle;\n",
       "    }\n",
       "\n",
       "    .dataframe tbody tr th {\n",
       "        vertical-align: top;\n",
       "    }\n",
       "\n",
       "    .dataframe thead th {\n",
       "        text-align: right;\n",
       "    }\n",
       "</style>\n",
       "<table border=\"1\" class=\"dataframe\">\n",
       "  <thead>\n",
       "    <tr style=\"text-align: right;\">\n",
       "      <th></th>\n",
       "      <th>air_time1</th>\n",
       "      <th>disp_index1</th>\n",
       "      <th>gmrt_in_air1</th>\n",
       "      <th>gmrt_on_paper1</th>\n",
       "      <th>max_x_extension1</th>\n",
       "      <th>max_y_extension1</th>\n",
       "      <th>mean_acc_in_air1</th>\n",
       "      <th>mean_acc_on_paper1</th>\n",
       "      <th>mean_gmrt1</th>\n",
       "      <th>mean_jerk_in_air1</th>\n",
       "      <th>...</th>\n",
       "      <th>mean_jerk_in_air25</th>\n",
       "      <th>mean_jerk_on_paper25</th>\n",
       "      <th>mean_speed_in_air25</th>\n",
       "      <th>mean_speed_on_paper25</th>\n",
       "      <th>num_of_pendown25</th>\n",
       "      <th>paper_time25</th>\n",
       "      <th>pressure_mean25</th>\n",
       "      <th>pressure_var25</th>\n",
       "      <th>total_time25</th>\n",
       "      <th>class</th>\n",
       "    </tr>\n",
       "  </thead>\n",
       "  <tbody>\n",
       "    <tr>\n",
       "      <th>0</th>\n",
       "      <td>5160</td>\n",
       "      <td>0.000013</td>\n",
       "      <td>120.804174</td>\n",
       "      <td>86.853334</td>\n",
       "      <td>957</td>\n",
       "      <td>6601</td>\n",
       "      <td>0.361800</td>\n",
       "      <td>0.217459</td>\n",
       "      <td>103.828754</td>\n",
       "      <td>0.051836</td>\n",
       "      <td>...</td>\n",
       "      <td>0.141434</td>\n",
       "      <td>0.024471</td>\n",
       "      <td>5.596487</td>\n",
       "      <td>3.184589</td>\n",
       "      <td>71</td>\n",
       "      <td>40120</td>\n",
       "      <td>1749.278166</td>\n",
       "      <td>296102.7676</td>\n",
       "      <td>144605</td>\n",
       "      <td>P</td>\n",
       "    </tr>\n",
       "    <tr>\n",
       "      <th>1</th>\n",
       "      <td>51980</td>\n",
       "      <td>0.000016</td>\n",
       "      <td>115.318238</td>\n",
       "      <td>83.448681</td>\n",
       "      <td>1694</td>\n",
       "      <td>6998</td>\n",
       "      <td>0.272513</td>\n",
       "      <td>0.144880</td>\n",
       "      <td>99.383459</td>\n",
       "      <td>0.039827</td>\n",
       "      <td>...</td>\n",
       "      <td>0.049663</td>\n",
       "      <td>0.018368</td>\n",
       "      <td>1.665973</td>\n",
       "      <td>0.950249</td>\n",
       "      <td>129</td>\n",
       "      <td>126700</td>\n",
       "      <td>1504.768272</td>\n",
       "      <td>278744.2850</td>\n",
       "      <td>298640</td>\n",
       "      <td>P</td>\n",
       "    </tr>\n",
       "    <tr>\n",
       "      <th>2</th>\n",
       "      <td>2600</td>\n",
       "      <td>0.000010</td>\n",
       "      <td>229.933997</td>\n",
       "      <td>172.761858</td>\n",
       "      <td>2333</td>\n",
       "      <td>5802</td>\n",
       "      <td>0.387020</td>\n",
       "      <td>0.181342</td>\n",
       "      <td>201.347928</td>\n",
       "      <td>0.064220</td>\n",
       "      <td>...</td>\n",
       "      <td>0.178194</td>\n",
       "      <td>0.017174</td>\n",
       "      <td>4.000781</td>\n",
       "      <td>2.392521</td>\n",
       "      <td>74</td>\n",
       "      <td>45480</td>\n",
       "      <td>1431.443492</td>\n",
       "      <td>144411.7055</td>\n",
       "      <td>79025</td>\n",
       "      <td>P</td>\n",
       "    </tr>\n",
       "    <tr>\n",
       "      <th>3</th>\n",
       "      <td>2130</td>\n",
       "      <td>0.000010</td>\n",
       "      <td>369.403342</td>\n",
       "      <td>183.193104</td>\n",
       "      <td>1756</td>\n",
       "      <td>8159</td>\n",
       "      <td>0.556879</td>\n",
       "      <td>0.164502</td>\n",
       "      <td>276.298223</td>\n",
       "      <td>0.090408</td>\n",
       "      <td>...</td>\n",
       "      <td>0.113905</td>\n",
       "      <td>0.019860</td>\n",
       "      <td>4.206746</td>\n",
       "      <td>1.613522</td>\n",
       "      <td>123</td>\n",
       "      <td>67945</td>\n",
       "      <td>1465.843329</td>\n",
       "      <td>230184.7154</td>\n",
       "      <td>181220</td>\n",
       "      <td>P</td>\n",
       "    </tr>\n",
       "    <tr>\n",
       "      <th>4</th>\n",
       "      <td>2310</td>\n",
       "      <td>0.000007</td>\n",
       "      <td>257.997131</td>\n",
       "      <td>111.275889</td>\n",
       "      <td>987</td>\n",
       "      <td>4732</td>\n",
       "      <td>0.266077</td>\n",
       "      <td>0.145104</td>\n",
       "      <td>184.636510</td>\n",
       "      <td>0.037528</td>\n",
       "      <td>...</td>\n",
       "      <td>0.121782</td>\n",
       "      <td>0.020872</td>\n",
       "      <td>3.319036</td>\n",
       "      <td>1.680629</td>\n",
       "      <td>92</td>\n",
       "      <td>37285</td>\n",
       "      <td>1841.702561</td>\n",
       "      <td>158290.0255</td>\n",
       "      <td>72575</td>\n",
       "      <td>P</td>\n",
       "    </tr>\n",
       "  </tbody>\n",
       "</table>\n",
       "<p>5 rows × 451 columns</p>\n",
       "</div>"
      ],
      "text/plain": [
       "   air_time1  disp_index1  gmrt_in_air1  gmrt_on_paper1  max_x_extension1  \\\n",
       "0       5160     0.000013    120.804174       86.853334               957   \n",
       "1      51980     0.000016    115.318238       83.448681              1694   \n",
       "2       2600     0.000010    229.933997      172.761858              2333   \n",
       "3       2130     0.000010    369.403342      183.193104              1756   \n",
       "4       2310     0.000007    257.997131      111.275889               987   \n",
       "\n",
       "   max_y_extension1  mean_acc_in_air1  mean_acc_on_paper1  mean_gmrt1  \\\n",
       "0              6601          0.361800            0.217459  103.828754   \n",
       "1              6998          0.272513            0.144880   99.383459   \n",
       "2              5802          0.387020            0.181342  201.347928   \n",
       "3              8159          0.556879            0.164502  276.298223   \n",
       "4              4732          0.266077            0.145104  184.636510   \n",
       "\n",
       "   mean_jerk_in_air1  ...  mean_jerk_in_air25  mean_jerk_on_paper25  \\\n",
       "0           0.051836  ...            0.141434              0.024471   \n",
       "1           0.039827  ...            0.049663              0.018368   \n",
       "2           0.064220  ...            0.178194              0.017174   \n",
       "3           0.090408  ...            0.113905              0.019860   \n",
       "4           0.037528  ...            0.121782              0.020872   \n",
       "\n",
       "   mean_speed_in_air25  mean_speed_on_paper25  num_of_pendown25  paper_time25  \\\n",
       "0             5.596487               3.184589                71         40120   \n",
       "1             1.665973               0.950249               129        126700   \n",
       "2             4.000781               2.392521                74         45480   \n",
       "3             4.206746               1.613522               123         67945   \n",
       "4             3.319036               1.680629                92         37285   \n",
       "\n",
       "   pressure_mean25  pressure_var25  total_time25  class  \n",
       "0      1749.278166     296102.7676        144605      P  \n",
       "1      1504.768272     278744.2850        298640      P  \n",
       "2      1431.443492     144411.7055         79025      P  \n",
       "3      1465.843329     230184.7154        181220      P  \n",
       "4      1841.702561     158290.0255         72575      P  \n",
       "\n",
       "[5 rows x 451 columns]"
      ]
     },
     "execution_count": 10,
     "metadata": {},
     "output_type": "execute_result"
    }
   ],
   "source": [
    "# URL of the CSV file\n",
    "url = \"https://raw.githubusercontent.com/Darkrayyss/Proyecto-Final-MAT281/55f75c4cf69c747fb155083ee56757f04078ad7c/Docs/darwin/data.csv\"\n",
    "\n",
    "# Import the CSV file into a DataFrame\n",
    "df = pd.read_csv(url)\n",
    "\n",
    "# Drop the Id\n",
    "df.drop('ID', axis=1, inplace=True)\n",
    "\n",
    "# Now, 'df' contains the data from the CSV file\n",
    "df.head(5)"
   ]
  },
  {
   "cell_type": "code",
   "execution_count": 11,
   "metadata": {},
   "outputs": [
    {
     "name": "stdout",
     "output_type": "stream",
     "text": [
      "<class 'pandas.core.frame.DataFrame'>\n",
      "RangeIndex: 174 entries, 0 to 173\n",
      "Columns: 451 entries, air_time1 to class\n",
      "dtypes: float64(300), int64(150), object(1)\n",
      "memory usage: 613.2+ KB\n"
     ]
    }
   ],
   "source": [
    "df.info(memory_usage=True)"
   ]
  },
  {
   "cell_type": "markdown",
   "metadata": {},
   "source": [
    "Se decide eliminar la columna de \"Id\" dado que resulta redundante con el índice del dataframe."
   ]
  },
  {
   "cell_type": "code",
   "execution_count": 12,
   "metadata": {},
   "outputs": [
    {
     "data": {
      "image/png": "[encoded data removed]",
      "text/plain": [
       "<Figure size 640x480 with 1 Axes>"
      ]
     },
     "metadata": {},
     "output_type": "display_data"
    }
   ],
   "source": [
    "# Select the last row of the DataFrame\n",
    "last_row = df.iloc[:, -1]\n",
    "\n",
    "# Count the unique values in the last row (assuming it contains the target class)\n",
    "unique_values = last_row.value_counts()\n",
    "\n",
    "# Get the categories and values from the unique values\n",
    "categories = unique_values.index\n",
    "values = unique_values.values\n",
    "\n",
    "# Calculate the total count\n",
    "total_count = values.sum()\n",
    "\n",
    "# Calculate the percentages\n",
    "percentages = (values / total_count) * 100\n",
    "\n",
    "# Create the horizontal histogram with specified colors, border, and percentages inside the bars\n",
    "fig, ax = plt.subplots()\n",
    "bars = plt.barh(categories, values, color='orange', edgecolor='black')\n",
    "plt.xlabel('Count')\n",
    "plt.title('Distribution of Target Classes')\n",
    "\n",
    "# Add percentages inside the bars\n",
    "for bar, percentage in zip(bars, percentages):\n",
    "    ax.text(bar.get_width() - 10, bar.get_y() + bar.get_height()/2, f'{percentage:.2f}%', color='black', va='center')\n",
    "\n",
    "plt.show()"
   ]
  },
  {
   "cell_type": "markdown",
   "metadata": {},
   "source": [
    "Se observa que las clases se encuentran balanceadas respecto a las observaciones."
   ]
  },
  {
   "cell_type": "markdown",
   "metadata": {},
   "source": [
    "Se nota que la cantidad de covariables presentes puede significar un problema al momento de entrenar el modelo, ya sea por un posible overfitting o la complejidad computacional. Para esto, utilizaremos la información mutua para intentar reducir la cantidad de tareas involucradas.\n",
    "\n",
    "Dado que el conjunto de datos cuenta con distintas tareas realizadas, resulta natural querer reducir esta gran magnitud de tareas hacia las más significativas para poder tener más control de las covariables a utilizar y permitir en la practica contar una cantidad de tareas más reducidas que permitan predecir si una persona padece la dicha enfermadad o no."
   ]
  },
  {
   "cell_type": "markdown",
   "metadata": {},
   "source": [
    "Se define la información mutua entre dos covariables como\n",
    "$$\n",
    "I(X,Y)=\\sum_{X}\\sum_{Y}p(x,y)\\log\\left(\\frac{p(x,y)}{p(x)p(y)}\\right)\n",
    "$$"
   ]
  },
  {
   "cell_type": "code",
   "execution_count": 15,
   "metadata": {},
   "outputs": [
    {
     "data": {
      "image/png": "[encoded data removed]",
      "text/plain": [
       "<Figure size 1500x800 with 25 Axes>"
      ]
     },
     "metadata": {},
     "output_type": "display_data"
    }
   ],
   "source": [
    "# 1. Calcular la información mutua de cada covariable con respecto a 'class'\n",
    "X = df.drop(columns=['class'])\n",
    "y = df['class']\n",
    "mutual_info = mutual_info_classif(X, y)\n",
    "\n",
    "# 2. Agrupar las covariables en conjuntos de 18 columnas (tareas)\n",
    "num_columns_per_task = 18\n",
    "grouped_mutual_info = [mutual_info[i:i+num_columns_per_task] for i in range(0, len(mutual_info), num_columns_per_task)]\n",
    "group_names = [f'Tarea {i+1}' for i in range(len(grouped_mutual_info))]\n",
    "\n",
    "# 3. Crear una cuadrícula de subgráficos\n",
    "n = 5  # Número de columnas por fila\n",
    "num_rows = len(grouped_mutual_info) // n  # Calcular el número de filas necesarias\n",
    "if len(grouped_mutual_info) % n != 0:\n",
    "    num_rows += 1\n",
    "\n",
    "# Crear la cuadrícula de subgráficos\n",
    "fig, axes = plt.subplots(num_rows, n, figsize=(15, 8))\n",
    "fig.suptitle('Información Mutua de Covariables por Tarea')\n",
    "\n",
    "# Establecer el rango del eje y de la información mutua\n",
    "y_max = max(max(group) for group in grouped_mutual_info)\n",
    "y_min = 0\n",
    "\n",
    "# Graficar cada grupo de covariables\n",
    "for i in range(len(grouped_mutual_info)):\n",
    "    row = i // n\n",
    "    col = i % n\n",
    "\n",
    "    ax = axes[row, col]\n",
    "    ax.bar(range(len(grouped_mutual_info[i])), grouped_mutual_info[i], color='orange', edgecolor='black')\n",
    "    ax.set_title(group_names[i])\n",
    "    ax.set_ylim(y_min, y_max)\n",
    "\n",
    "# Ajustar los subgráficos y el espaciado\n",
    "plt.tight_layout()\n",
    "plt.subplots_adjust(top=0.9)\n",
    "\n",
    "plt.show()"
   ]
  },
  {
   "cell_type": "markdown",
   "metadata": {},
   "source": [
    "# Posibles aproximaciones para seguir trabajando.\n",
    "\n",
    "**Según categoría**\n",
    "Cada tarea tiene una categoría interna asociada: (M), (C), (G).\n",
    "\n",
    "i) Considerar dicha categoría para trabajar.\n",
    "\n",
    "ii) Ignorar la existencia de dichas categorías.\n",
    "\n",
    "**Según tarea**\n",
    "\n",
    "Es claro que cada 18 columnas se repiten las covariables pero para distintas tareas.\n",
    "\n",
    "i) Considerar trabajar la cantidad de tareas por separado.\n",
    "\n",
    "ii) Ignorar la separación por tareas.\n",
    "\n",
    "**Disminución de Features**\n",
    "Manejar 450 columnas es un trabajo que ta lvez no sea la mejor opción, entre las razones están: el costo computacional, el problema para interpretar los resultados, la dificultad de implementar el modelo real, etc.\n",
    "\n",
    "i) Utilizar PCA de forma conveniente.\n",
    "\n",
    "ii) Seleccionar features mediante test de Wald.\n",
    "\n",
    "iii) Utilizar mutual information."
   ]
  },
  {
   "cell_type": "markdown",
   "metadata": {},
   "source": [
    "## Propuesta de trabajo\n",
    "\n",
    "Teniendo en cuenta que cada tarea tiene asociada una categoría: dictation (M), Graphic (G), and Copy (C), se decide separar cada tarea según sus categorías y utilizar la tarea que tenga mayor información mutua en promedio con respecto a la variable objetivo. Para cada una de las tres tareas seleccionada se realizará su respectivo análisis de datos, selección de Features (en caso de ser necesario), selección de modelo, etc para entrenar un modelo respectivo a la tarea. Finalmente se juntarán los tres modelos mediante mayoría simple para predecir."
   ]
  },
  {
   "cell_type": "code",
   "execution_count": 16,
   "metadata": {},
   "outputs": [],
   "source": [
    "# Obtenido de tabla 1\n",
    "\n",
    "task_letter_mapping = {\n",
    "    1: 'M',\n",
    "    2: 'G',\n",
    "    3: 'G',\n",
    "    4: 'G',\n",
    "    5: 'G',\n",
    "    6: 'C',\n",
    "    7: 'C',\n",
    "    8: 'C',\n",
    "    9: 'C',\n",
    "    10: 'C',\n",
    "    11: 'C',\n",
    "    12: 'C',\n",
    "    13: 'C',\n",
    "    14: 'M',\n",
    "    15: 'C',\n",
    "    16: 'C',\n",
    "    17: 'C',\n",
    "    18: 'M',\n",
    "    19: 'C',\n",
    "    20: 'M',\n",
    "    21: 'G',\n",
    "    22: 'C',\n",
    "    23: 'M',\n",
    "    24: 'G',\n",
    "    25: 'C'\n",
    "}\n"
   ]
  },
  {
   "cell_type": "code",
   "execution_count": 18,
   "metadata": {},
   "outputs": [],
   "source": [
    "# Crear DataFrames separados para cada letra (M, G, C)\n",
    "df_M = pd.DataFrame()\n",
    "df_G = pd.DataFrame()\n",
    "df_C = pd.DataFrame()\n",
    "\n",
    "# Iterar sobre las tareas y agregar las columnas a los DataFrames adecuados\n",
    "for task_number, task_letter in task_letter_mapping.items():\n",
    "    column_start = (task_number - 1) * 18  # Calcular el índice de inicio de la tarea\n",
    "    column_end = task_number * 18  # Calcular el índice de fin de la tarea\n",
    "\n",
    "    # Agregar las columnas de la tarea al DataFrame correspondiente\n",
    "    if task_letter == 'M':\n",
    "        df_M = pd.concat([df_M, df.iloc[:, column_start:column_end]], axis=1)\n",
    "    elif task_letter == 'G':\n",
    "        df_G = pd.concat([df_G, df.iloc[:, column_start:column_end]], axis=1)\n",
    "    elif task_letter == 'C':\n",
    "        df_C = pd.concat([df_C, df.iloc[:, column_start:column_end]], axis=1)"
   ]
  },
  {
   "cell_type": "markdown",
   "metadata": {},
   "source": [
    "Ahora df_M contiene las tareas respectivas a la categoría memory and dictation (M), el resto es análogo."
   ]
  }
 ],
 "metadata": {
  "kernelspec": {
   "display_name": "base",
   "language": "python",
   "name": "python3"
  },
  "language_info": {
   "codemirror_mode": {
    "name": "ipython",
    "version": 3
   },
   "file_extension": ".py",
   "mimetype": "text/x-python",
   "name": "python",
   "nbconvert_exporter": "python",
   "pygments_lexer": "ipython3",
   "version": "3.11.4"
  }
 },
 "nbformat": 4,
 "nbformat_minor": 2
}
